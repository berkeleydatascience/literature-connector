{
 "cells": [
  {
   "cell_type": "code",
   "execution_count": null,
   "metadata": {
    "collapsed": false
   },
   "outputs": [],
   "source": [
    "# Show images in notebook\n",
    "%pylab inline\n",
    "\n",
    "# Gather our tools\n",
    "import pandas as pd\n",
    "import numpy as np\n",
    "import os\n",
    "from sklearn.feature_extraction.text import CountVectorizer"
   ]
  },
  {
   "cell_type": "code",
   "execution_count": null,
   "metadata": {
    "collapsed": true
   },
   "outputs": [],
   "source": [
    "# Read the text of the play from its file on the hard-drive\n",
    "\n",
    "with open('antigone.txt', 'r') as file_in:\n",
    "    antigone = file_in.read()"
   ]
  },
  {
   "cell_type": "code",
   "execution_count": null,
   "metadata": {
    "collapsed": true
   },
   "outputs": [],
   "source": [
    "# Create a list, where each entry is a line from the play\n",
    "# that starts with the name of the speaker\n",
    "antigone_list = antigone.split('\\n\\n')\n",
    "\n",
    "# Create a dictionary where each key is the name of a character\n",
    "# and each entry is a single string of words spoken by them\n",
    "dialogue_dict = {}\n",
    "for line in antigone_list:\n",
    "    dex = line.index(' ')\n",
    "    char = line[:dex]\n",
    "    if char not in dialogue_dict.keys():\n",
    "        dialogue_dict[char] = line[dex:]\n",
    "    else:\n",
    "        dialogue_dict[char] += line[dex:]"
   ]
  },
  {
   "cell_type": "code",
   "execution_count": null,
   "metadata": {
    "collapsed": true
   },
   "outputs": [],
   "source": [
    "# Since we're using an old translation of Antigone,\n",
    "# let's supplement our stopword list with their old-timey forms\n",
    "\n",
    "from sklearn.feature_extraction.stop_words import ENGLISH_STOP_WORDS\n",
    "\n",
    "ye_olde_stop_words = ['thou','thy','thee', 'ye', 'hath','hast', 'wilt',\\\n",
    "                      'art', 'dost','doth','shalt','tis','canst','thyself']\n",
    "stop_words = list(ENGLISH_STOP_WORDS)+ye_olde_stop_words"
   ]
  },
  {
   "cell_type": "code",
   "execution_count": null,
   "metadata": {
    "collapsed": false
   },
   "outputs": [],
   "source": [
    "# Create a document-term matrix ('dtm'), where each row is associated\n",
    "# with a character and each column with a given word. The values\n",
    "# of the matrix tell us how often each character uttered a given word.\n",
    "\n",
    "# Boot up the dtm-maker, including our custom stopwords\n",
    "cv = CountVectorizer(stop_words=stop_words)\n",
    "\n",
    "# Create the dtm\n",
    "dtm = cv.fit_transform(dialogue_dict.values())\n",
    "\n",
    "# Put the dtm into human-readable format\n",
    "word_list = cv.get_feature_names()\n",
    "dtm_df = pd.DataFrame(dtm.toarray(), columns = word_list, index = dialogue_dict.keys())"
   ]
  },
  {
   "cell_type": "code",
   "execution_count": null,
   "metadata": {
    "collapsed": false
   },
   "outputs": [],
   "source": [
    "# Sort rows in order of total words spoken by each character\n",
    "dtm_df = dtm_df.loc[dtm_df.sum(axis=1).sort_values(ascending=False).index]\n",
    "\n",
    "# Display bar chart of words spoken by each character, as percent of total words\n",
    "plt.bar(range(len(dtm_df)), dtm_df.sum(axis=1)/sum(dtm_df.sum(axis=1))*100)\n",
    "plt.xticks(range(len(dtm_df)), dtm_df.index, rotation=45)\n",
    "plt.show()"
   ]
  },
  {
   "cell_type": "code",
   "execution_count": null,
   "metadata": {
    "collapsed": false
   },
   "outputs": [],
   "source": [
    "# Calculate the \"Most Distinctive Words\" for Antigone (character)\n",
    "\n",
    "# Create new dataframe\n",
    "mdw_df = pd.DataFrame()\n",
    "\n",
    "# Add a column for her observed word counts\n",
    "mdw_df['ANTIGONE'] = dtm_df.loc['ANTIGONE']\n",
    "\n",
    "# Add a column for the total counts of each word in the play\n",
    "mdw_df['WORD_TOTAL'] = dtm_df.sum()\n",
    "\n",
    "# Calculate Antigone's share of the total dialogue\n",
    "char_space = sum(mdw_df['ANTIGONE'])/float(sum(mdw_df['WORD_TOTAL']))\n",
    "\n",
    "# Add a new column in which we calculate an \"expected\" number of times\n",
    "# Antigone would utter each word, based on its overall use in the play\n",
    "# and her share of the dialogue.\n",
    "\n",
    "mdw_df['ANTIGONE_EXPECTED'] = mdw_df['WORD_TOTAL']*char_space\n",
    "\n",
    "# How much more/less frequently does Antigone use the word than expected?\n",
    "mdw_df['OBS-EXP_RATIO'] = mdw_df['ANTIGONE']/(mdw_df['ANTIGONE_EXPECTED'])"
   ]
  },
  {
   "cell_type": "code",
   "execution_count": null,
   "metadata": {
    "collapsed": false,
    "scrolled": true
   },
   "outputs": [],
   "source": [
    "# Sort the dataframe by the Observed/Expected Ratio to show \n",
    "# Antigone's 20 \"Most Distinctive Words\"\n",
    "mdw_df[(mdw_df['OBS-EXP_RATIO']>1)&(mdw_df['WORD_TOTAL']>5)].sort_values('OBS-EXP_RATIO', ascending=False).head(20)"
   ]
  }
 ],
 "metadata": {
  "kernelspec": {
   "display_name": "IPython (Python 3)",
   "language": "python",
   "name": "python3"
  },
  "language_info": {
   "codemirror_mode": {
    "name": "ipython",
    "version": 3
   },
   "file_extension": ".py",
   "mimetype": "text/x-python",
   "name": "python",
   "nbconvert_exporter": "python",
   "pygments_lexer": "ipython3",
   "version": "3.5.1"
  }
 },
 "nbformat": 4,
 "nbformat_minor": 0
}
