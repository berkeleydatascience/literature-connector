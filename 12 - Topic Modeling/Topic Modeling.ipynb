{
 "cells": [
  {
   "cell_type": "code",
   "execution_count": 75,
   "metadata": {
    "collapsed": false
   },
   "outputs": [
    {
     "name": "stdout",
     "output_type": "stream",
     "text": [
      "Populating the interactive namespace from numpy and matplotlib\n",
      "[nltk_data] Downloading package words to\n",
      "[nltk_data]     /Users/edwinroland/nltk_data...\n",
      "[nltk_data]   Package words is already up-to-date!\n",
      "[nltk_data] Downloading package stopwords to\n",
      "[nltk_data]     /Users/edwinroland/nltk_data...\n",
      "[nltk_data]   Package stopwords is already up-to-date!\n"
     ]
    },
    {
     "name": "stderr",
     "output_type": "stream",
     "text": [
      "WARNING: pylab import has clobbered these variables: ['Formatter', 'Circle', 'DateFormatter', 'percentile']\n",
      "`%matplotlib` prevents importing * from pylab and numpy\n"
     ]
    },
    {
     "data": {
      "text/plain": [
       "True"
      ]
     },
     "execution_count": 75,
     "metadata": {},
     "output_type": "execute_result"
    }
   ],
   "source": [
    "%pylab inline\n",
    "from datascience import *\n",
    "matplotlib.style.use('ggplot')\n",
    "import gensim\n",
    "import nltk\n",
    "nltk.download('words')\n",
    "nltk.download('stopwords')\n",
    "#nltk.download('punkt')"
   ]
  },
  {
   "cell_type": "code",
   "execution_count": null,
   "metadata": {
    "collapsed": true
   },
   "outputs": [],
   "source": [
    "# description of columns"
   ]
  },
  {
   "cell_type": "code",
   "execution_count": 78,
   "metadata": {
    "collapsed": false,
    "scrolled": true
   },
   "outputs": [],
   "source": [
    "metadata_tb = Table.read_table('txtlab_Novel150_English.csv')\n",
    "fiction_path = 'txtalb_Novel150_English/'\n",
    "docterm_list = []\n",
    "\n",
    "def fast_tokenizer(text):\n",
    "    from string import punctuation\n",
    "    low_case = text.lower()\n",
    "    no_punct = \"\".join([char for char in low_case if char not in punctuation])\n",
    "    tokens = no_punct.split()\n",
    "    return tokens\n",
    "\n",
    "for filename in metadata_tb['filename']:\n",
    "    with open(fiction_path+filename, 'r') as file_in:\n",
    "        novel = file_in.read()\n",
    "    #tokens = nltk.word_tokenize(novel)\n",
    "    tokens = fast_tokenizer(novel)\n",
    "    docterm_list.append(tokens)"
   ]
  },
  {
   "cell_type": "code",
   "execution_count": null,
   "metadata": {
    "collapsed": false
   },
   "outputs": [],
   "source": [
    "from nltk.corpus import stopwords, words\n",
    "\n",
    "proper_names = [word.lower() for word in words.words() if word.istitle()]\n",
    "\n",
    "# Create Dictionary\n",
    "dictionary = gensim.corpora.dictionary.Dictionary(docterm_list)\n",
    "dictionary.filter_extremes(no_below=5)\n",
    "\n",
    "stop_ids = [_id for _id,count in dictionary.doc2bow(stopwords.words('english')+proper_names)]\n",
    "not_names = [word.lower() for word in words.words() if word.istitle()==False and word.lower() not in stopwords.words('english')]\n",
    "real_ids = [_id for _id,count in dictionary.doc2bow(not_names)]\n",
    "\n",
    "dictionary.filter_tokens(bad_ids = stop_ids, good_ids = real_ids)\n",
    "corpus = [dictionary.doc2bow(doc) for doc in docterm_list]"
   ]
  },
  {
   "cell_type": "code",
   "execution_count": null,
   "metadata": {
    "collapsed": false
   },
   "outputs": [],
   "source": [
    "import time\n",
    "start = time.time()\n",
    "lda_model = gensim.models.LdaModel(corpus, num_topics=50, alpha='auto', eta='auto', id2word=dictionary, iterations=2500, passes = 4)\n",
    "end = time.time()\n",
    "print(end-start)"
   ]
  },
  {
   "cell_type": "code",
   "execution_count": null,
   "metadata": {
    "collapsed": false,
    "scrolled": true
   },
   "outputs": [],
   "source": [
    "# Quick look at topics inferred\n",
    "lda_model.show_topics(20)"
   ]
  },
  {
   "cell_type": "code",
   "execution_count": null,
   "metadata": {
    "collapsed": false
   },
   "outputs": [],
   "source": [
    "# Deeper look at particular topic\n",
    "\n",
    "lda_model.show_topic(8, topn=20)"
   ]
  },
  {
   "cell_type": "code",
   "execution_count": null,
   "metadata": {
    "collapsed": false
   },
   "outputs": [],
   "source": [
    "# Deeper look but labels with id2word mapping\n",
    "lda_model.get_topic_terms(8, topn=20)"
   ]
  },
  {
   "cell_type": "code",
   "execution_count": null,
   "metadata": {
    "collapsed": true
   },
   "outputs": [],
   "source": [
    "## EX. The 'topn' argument returns only the given number of terms\n",
    "##     for each topic. Rewrite that argument to return all values\n",
    "\n",
    "## EX. Return a list of all term values for topic 1. By default,\n",
    "##     these are ordered by the probability associated with each term.\n",
    "##     Instead, order the list according to the words id2word label"
   ]
  },
  {
   "cell_type": "code",
   "execution_count": null,
   "metadata": {
    "collapsed": false,
    "scrolled": true
   },
   "outputs": [],
   "source": [
    "# Measure of model's \"fit\" to data -- typically want value between -7 and -4\n",
    "lda_model.log_perplexity(corpus)"
   ]
  },
  {
   "cell_type": "code",
   "execution_count": null,
   "metadata": {
    "collapsed": false
   },
   "outputs": [],
   "source": [
    "# Most present topics in corpus\n",
    "\n",
    "lda_model.top_topics(corpus)"
   ]
  },
  {
   "cell_type": "code",
   "execution_count": null,
   "metadata": {
    "collapsed": false,
    "scrolled": true
   },
   "outputs": [],
   "source": [
    "# Most prominent topics in a given document\n",
    "lda_model.get_document_topics(corpus[0])"
   ]
  },
  {
   "cell_type": "code",
   "execution_count": null,
   "metadata": {
    "collapsed": false,
    "scrolled": true
   },
   "outputs": [],
   "source": [
    "# Distribution of all topics over a document\n",
    "lda_model.get_document_topics(corpus[0], minimum_probability=0)"
   ]
  },
  {
   "cell_type": "code",
   "execution_count": null,
   "metadata": {
    "collapsed": true
   },
   "outputs": [],
   "source": [
    "list_of_topicdocs = [lda_model.get_document_topics(corpus[i], minimum_probability=0) for i in range(len(corpus))]\n",
    "list_of_probabilities = [[y[1] for y in x] for x in list_of_topicdocs]\n",
    "labeled_columns = [['Topic '+str(i),[x[i] for x in list_of_probabilities]] for i in range(50)]\n",
    "metatopic_tb = metadata_tb.with_columns(labeled_columns)"
   ]
  },
  {
   "cell_type": "code",
   "execution_count": null,
   "metadata": {
    "collapsed": false,
    "scrolled": true
   },
   "outputs": [],
   "source": [
    "def correlator(tb, col_1, col_2):\n",
    "    import numpy as np\n",
    "    col_1_in_su = [(x-np.mean(tb[col_1]))/np.std(tb[col_1]) for x in tb[col_1]]\n",
    "    col_2_in_su = [(x-np.mean(tb[col_2]))/np.std(tb[col_2]) for x in tb[col_2]]\n",
    "    col_mult = [col_1_in_su[i]*col_2_in_su[i] for i in range(len(col_1_in_su))]\n",
    "    r = np.mean(col_mult)\n",
    "    return r**2"
   ]
  }
 ],
 "metadata": {
  "kernelspec": {
   "display_name": "IPython (Python 3)",
   "language": "python",
   "name": "python3"
  },
  "language_info": {
   "codemirror_mode": {
    "name": "ipython",
    "version": 3
   },
   "file_extension": ".py",
   "mimetype": "text/x-python",
   "name": "python",
   "nbconvert_exporter": "python",
   "pygments_lexer": "ipython3",
   "version": "3.5.1"
  }
 },
 "nbformat": 4,
 "nbformat_minor": 0
}
